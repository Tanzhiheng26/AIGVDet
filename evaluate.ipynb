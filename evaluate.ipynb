{
 "cells": [
  {
   "cell_type": "code",
   "execution_count": 114,
   "id": "df72e0c2",
   "metadata": {},
   "outputs": [],
   "source": [
    "import pandas as pd"
   ]
  },
  {
   "cell_type": "code",
   "execution_count": 115,
   "id": "bbe0d7aa",
   "metadata": {},
   "outputs": [],
   "source": [
    "threshold = 0.1"
   ]
  },
  {
   "cell_type": "markdown",
   "id": "ccc657b2",
   "metadata": {},
   "source": [
    "## Real videos"
   ]
  },
  {
   "cell_type": "markdown",
   "id": "e4819121",
   "metadata": {},
   "source": [
    "### MSR-VTT"
   ]
  },
  {
   "cell_type": "code",
   "execution_count": 116,
   "id": "826a4916",
   "metadata": {},
   "outputs": [
    {
     "data": {
      "text/html": [
       "<div>\n",
       "<style scoped>\n",
       "    .dataframe tbody tr th:only-of-type {\n",
       "        vertical-align: middle;\n",
       "    }\n",
       "\n",
       "    .dataframe tbody tr th {\n",
       "        vertical-align: top;\n",
       "    }\n",
       "\n",
       "    .dataframe thead th {\n",
       "        text-align: right;\n",
       "    }\n",
       "</style>\n",
       "<table border=\"1\" class=\"dataframe\">\n",
       "  <thead>\n",
       "    <tr style=\"text-align: right;\">\n",
       "      <th></th>\n",
       "      <th>name</th>\n",
       "      <th>pro</th>\n",
       "      <th>flag</th>\n",
       "      <th>optical_pro</th>\n",
       "      <th>original_pro</th>\n",
       "    </tr>\n",
       "  </thead>\n",
       "  <tbody>\n",
       "    <tr>\n",
       "      <th>0</th>\n",
       "      <td>msrvtt_10000</td>\n",
       "      <td>0.002164</td>\n",
       "      <td>0</td>\n",
       "      <td>2.729063e-17</td>\n",
       "      <td>0.004327</td>\n",
       "    </tr>\n",
       "    <tr>\n",
       "      <th>1</th>\n",
       "      <td>msrvtt_9333</td>\n",
       "      <td>0.111426</td>\n",
       "      <td>0</td>\n",
       "      <td>3.694907e-21</td>\n",
       "      <td>0.222852</td>\n",
       "    </tr>\n",
       "    <tr>\n",
       "      <th>2</th>\n",
       "      <td>msrvtt_9334</td>\n",
       "      <td>0.124739</td>\n",
       "      <td>0</td>\n",
       "      <td>4.297181e-17</td>\n",
       "      <td>0.249478</td>\n",
       "    </tr>\n",
       "    <tr>\n",
       "      <th>3</th>\n",
       "      <td>msrvtt_9335</td>\n",
       "      <td>0.003779</td>\n",
       "      <td>0</td>\n",
       "      <td>7.453783e-19</td>\n",
       "      <td>0.007558</td>\n",
       "    </tr>\n",
       "    <tr>\n",
       "      <th>4</th>\n",
       "      <td>msrvtt_9336</td>\n",
       "      <td>0.003247</td>\n",
       "      <td>0</td>\n",
       "      <td>2.203952e-14</td>\n",
       "      <td>0.006494</td>\n",
       "    </tr>\n",
       "  </tbody>\n",
       "</table>\n",
       "</div>"
      ],
      "text/plain": [
       "           name       pro  flag   optical_pro  original_pro\n",
       "0  msrvtt_10000  0.002164     0  2.729063e-17      0.004327\n",
       "1   msrvtt_9333  0.111426     0  3.694907e-21      0.222852\n",
       "2   msrvtt_9334  0.124739     0  4.297181e-17      0.249478\n",
       "3   msrvtt_9335  0.003779     0  7.453783e-19      0.007558\n",
       "4   msrvtt_9336  0.003247     0  2.203952e-14      0.006494"
      ]
     },
     "execution_count": 116,
     "metadata": {},
     "output_type": "execute_result"
    }
   ],
   "source": [
    "msrvtt_df = pd.read_csv('results/msrvtt.csv')\n",
    "msrvtt_df.head()"
   ]
  },
  {
   "cell_type": "code",
   "execution_count": 117,
   "id": "4ad170a7",
   "metadata": {},
   "outputs": [],
   "source": [
    "# msrvtt_df.sort_values(by=\"name\").reset_index(drop=True).to_csv(\"results/msrvtt.csv\", index=False)"
   ]
  },
  {
   "cell_type": "code",
   "execution_count": 118,
   "id": "56e95251",
   "metadata": {},
   "outputs": [
    {
     "name": "stdout",
     "output_type": "stream",
     "text": [
      "False positive: 237\n",
      "True negative: 431\n"
     ]
    },
    {
     "data": {
      "text/html": [
       "<div>\n",
       "<style scoped>\n",
       "    .dataframe tbody tr th:only-of-type {\n",
       "        vertical-align: middle;\n",
       "    }\n",
       "\n",
       "    .dataframe tbody tr th {\n",
       "        vertical-align: top;\n",
       "    }\n",
       "\n",
       "    .dataframe thead th {\n",
       "        text-align: right;\n",
       "    }\n",
       "</style>\n",
       "<table border=\"1\" class=\"dataframe\">\n",
       "  <thead>\n",
       "    <tr style=\"text-align: right;\">\n",
       "      <th></th>\n",
       "      <th>name</th>\n",
       "      <th>pro</th>\n",
       "      <th>flag</th>\n",
       "      <th>optical_pro</th>\n",
       "      <th>original_pro</th>\n",
       "      <th>pred</th>\n",
       "    </tr>\n",
       "  </thead>\n",
       "  <tbody>\n",
       "    <tr>\n",
       "      <th>1</th>\n",
       "      <td>msrvtt_9333</td>\n",
       "      <td>0.111426</td>\n",
       "      <td>0</td>\n",
       "      <td>3.694907e-21</td>\n",
       "      <td>0.222852</td>\n",
       "      <td>1</td>\n",
       "    </tr>\n",
       "    <tr>\n",
       "      <th>2</th>\n",
       "      <td>msrvtt_9334</td>\n",
       "      <td>0.124739</td>\n",
       "      <td>0</td>\n",
       "      <td>4.297181e-17</td>\n",
       "      <td>0.249478</td>\n",
       "      <td>1</td>\n",
       "    </tr>\n",
       "    <tr>\n",
       "      <th>5</th>\n",
       "      <td>msrvtt_9337</td>\n",
       "      <td>0.458078</td>\n",
       "      <td>0</td>\n",
       "      <td>1.013298e-17</td>\n",
       "      <td>0.916156</td>\n",
       "      <td>1</td>\n",
       "    </tr>\n",
       "    <tr>\n",
       "      <th>13</th>\n",
       "      <td>msrvtt_9345</td>\n",
       "      <td>0.298598</td>\n",
       "      <td>0</td>\n",
       "      <td>5.358892e-17</td>\n",
       "      <td>0.597195</td>\n",
       "      <td>1</td>\n",
       "    </tr>\n",
       "    <tr>\n",
       "      <th>16</th>\n",
       "      <td>msrvtt_9348</td>\n",
       "      <td>0.128837</td>\n",
       "      <td>0</td>\n",
       "      <td>1.833028e-18</td>\n",
       "      <td>0.257674</td>\n",
       "      <td>1</td>\n",
       "    </tr>\n",
       "    <tr>\n",
       "      <th>...</th>\n",
       "      <td>...</td>\n",
       "      <td>...</td>\n",
       "      <td>...</td>\n",
       "      <td>...</td>\n",
       "      <td>...</td>\n",
       "      <td>...</td>\n",
       "    </tr>\n",
       "    <tr>\n",
       "      <th>654</th>\n",
       "      <td>msrvtt_9986</td>\n",
       "      <td>0.245586</td>\n",
       "      <td>0</td>\n",
       "      <td>4.810760e-18</td>\n",
       "      <td>0.491172</td>\n",
       "      <td>1</td>\n",
       "    </tr>\n",
       "    <tr>\n",
       "      <th>655</th>\n",
       "      <td>msrvtt_9987</td>\n",
       "      <td>0.315222</td>\n",
       "      <td>0</td>\n",
       "      <td>9.846574e-16</td>\n",
       "      <td>0.630444</td>\n",
       "      <td>1</td>\n",
       "    </tr>\n",
       "    <tr>\n",
       "      <th>656</th>\n",
       "      <td>msrvtt_9988</td>\n",
       "      <td>0.300900</td>\n",
       "      <td>0</td>\n",
       "      <td>1.572741e-16</td>\n",
       "      <td>0.601799</td>\n",
       "      <td>1</td>\n",
       "    </tr>\n",
       "    <tr>\n",
       "      <th>658</th>\n",
       "      <td>msrvtt_9990</td>\n",
       "      <td>0.150165</td>\n",
       "      <td>0</td>\n",
       "      <td>1.147338e-16</td>\n",
       "      <td>0.300330</td>\n",
       "      <td>1</td>\n",
       "    </tr>\n",
       "    <tr>\n",
       "      <th>663</th>\n",
       "      <td>msrvtt_9995</td>\n",
       "      <td>0.444086</td>\n",
       "      <td>0</td>\n",
       "      <td>3.057413e-18</td>\n",
       "      <td>0.888172</td>\n",
       "      <td>1</td>\n",
       "    </tr>\n",
       "  </tbody>\n",
       "</table>\n",
       "<p>237 rows × 6 columns</p>\n",
       "</div>"
      ],
      "text/plain": [
       "            name       pro  flag   optical_pro  original_pro  pred\n",
       "1    msrvtt_9333  0.111426     0  3.694907e-21      0.222852     1\n",
       "2    msrvtt_9334  0.124739     0  4.297181e-17      0.249478     1\n",
       "5    msrvtt_9337  0.458078     0  1.013298e-17      0.916156     1\n",
       "13   msrvtt_9345  0.298598     0  5.358892e-17      0.597195     1\n",
       "16   msrvtt_9348  0.128837     0  1.833028e-18      0.257674     1\n",
       "..           ...       ...   ...           ...           ...   ...\n",
       "654  msrvtt_9986  0.245586     0  4.810760e-18      0.491172     1\n",
       "655  msrvtt_9987  0.315222     0  9.846574e-16      0.630444     1\n",
       "656  msrvtt_9988  0.300900     0  1.572741e-16      0.601799     1\n",
       "658  msrvtt_9990  0.150165     0  1.147338e-16      0.300330     1\n",
       "663  msrvtt_9995  0.444086     0  3.057413e-18      0.888172     1\n",
       "\n",
       "[237 rows x 6 columns]"
      ]
     },
     "execution_count": 118,
     "metadata": {},
     "output_type": "execute_result"
    }
   ],
   "source": [
    "msrvtt_df['pred'] = (msrvtt_df['pro'] >= threshold).astype(int)\n",
    "fp = msrvtt_df['pred'].sum()\n",
    "print(\"False positive:\", fp)\n",
    "print(\"True negative:\", len(msrvtt_df) - fp)\n",
    "msrvtt_df[msrvtt_df['pred'] == 1]"
   ]
  },
  {
   "cell_type": "markdown",
   "id": "b8934e35",
   "metadata": {},
   "source": [
    "## AI-generated videos"
   ]
  },
  {
   "cell_type": "markdown",
   "id": "401d87b3",
   "metadata": {},
   "source": [
    "### Sora"
   ]
  },
  {
   "cell_type": "code",
   "execution_count": 119,
   "id": "0aca7d7e",
   "metadata": {},
   "outputs": [
    {
     "data": {
      "text/html": [
       "<div>\n",
       "<style scoped>\n",
       "    .dataframe tbody tr th:only-of-type {\n",
       "        vertical-align: middle;\n",
       "    }\n",
       "\n",
       "    .dataframe tbody tr th {\n",
       "        vertical-align: top;\n",
       "    }\n",
       "\n",
       "    .dataframe thead th {\n",
       "        text-align: right;\n",
       "    }\n",
       "</style>\n",
       "<table border=\"1\" class=\"dataframe\">\n",
       "  <thead>\n",
       "    <tr style=\"text-align: right;\">\n",
       "      <th></th>\n",
       "      <th>name</th>\n",
       "      <th>pro</th>\n",
       "      <th>flag</th>\n",
       "      <th>optical_pro</th>\n",
       "      <th>original_pro</th>\n",
       "    </tr>\n",
       "  </thead>\n",
       "  <tbody>\n",
       "    <tr>\n",
       "      <th>0</th>\n",
       "      <td>amalfi-coast</td>\n",
       "      <td>0.377388</td>\n",
       "      <td>1</td>\n",
       "      <td>0.003063</td>\n",
       "      <td>7.517128e-01</td>\n",
       "    </tr>\n",
       "    <tr>\n",
       "      <th>1</th>\n",
       "      <td>aquarium-nyc</td>\n",
       "      <td>0.001076</td>\n",
       "      <td>1</td>\n",
       "      <td>0.002152</td>\n",
       "      <td>3.092470e-08</td>\n",
       "    </tr>\n",
       "    <tr>\n",
       "      <th>2</th>\n",
       "      <td>art-museum</td>\n",
       "      <td>0.126251</td>\n",
       "      <td>1</td>\n",
       "      <td>0.000030</td>\n",
       "      <td>2.524717e-01</td>\n",
       "    </tr>\n",
       "    <tr>\n",
       "      <th>3</th>\n",
       "      <td>backward-jogger</td>\n",
       "      <td>0.037214</td>\n",
       "      <td>1</td>\n",
       "      <td>0.072686</td>\n",
       "      <td>1.740974e-03</td>\n",
       "    </tr>\n",
       "    <tr>\n",
       "      <th>4</th>\n",
       "      <td>basketball-explosion</td>\n",
       "      <td>0.694527</td>\n",
       "      <td>1</td>\n",
       "      <td>0.452150</td>\n",
       "      <td>9.369033e-01</td>\n",
       "    </tr>\n",
       "  </tbody>\n",
       "</table>\n",
       "</div>"
      ],
      "text/plain": [
       "                   name       pro  flag  optical_pro  original_pro\n",
       "0          amalfi-coast  0.377388     1     0.003063  7.517128e-01\n",
       "1          aquarium-nyc  0.001076     1     0.002152  3.092470e-08\n",
       "2            art-museum  0.126251     1     0.000030  2.524717e-01\n",
       "3       backward-jogger  0.037214     1     0.072686  1.740974e-03\n",
       "4  basketball-explosion  0.694527     1     0.452150  9.369033e-01"
      ]
     },
     "execution_count": 119,
     "metadata": {},
     "output_type": "execute_result"
    }
   ],
   "source": [
    "sora_df = pd.read_csv('results/sora.csv')\n",
    "sora_df.head()"
   ]
  },
  {
   "cell_type": "code",
   "execution_count": 120,
   "id": "81d0be7d",
   "metadata": {},
   "outputs": [
    {
     "name": "stdout",
     "output_type": "stream",
     "text": [
      "True positive: 25\n",
      "False negative: 23\n"
     ]
    }
   ],
   "source": [
    "sora_df['pred'] = (sora_df['pro'] >= threshold).astype(int)\n",
    "tp = sora_df['pred'].sum()\n",
    "print(\"True positive:\", tp)\n",
    "print(\"False negative:\", len(sora_df) - tp)"
   ]
  },
  {
   "cell_type": "markdown",
   "id": "42f76cd1",
   "metadata": {},
   "source": [
    "### VideoPoet"
   ]
  },
  {
   "cell_type": "code",
   "execution_count": 121,
   "id": "73912401",
   "metadata": {},
   "outputs": [
    {
     "data": {
      "text/html": [
       "<div>\n",
       "<style scoped>\n",
       "    .dataframe tbody tr th:only-of-type {\n",
       "        vertical-align: middle;\n",
       "    }\n",
       "\n",
       "    .dataframe tbody tr th {\n",
       "        vertical-align: top;\n",
       "    }\n",
       "\n",
       "    .dataframe thead th {\n",
       "        text-align: right;\n",
       "    }\n",
       "</style>\n",
       "<table border=\"1\" class=\"dataframe\">\n",
       "  <thead>\n",
       "    <tr style=\"text-align: right;\">\n",
       "      <th></th>\n",
       "      <th>name</th>\n",
       "      <th>pro</th>\n",
       "      <th>flag</th>\n",
       "      <th>optical_pro</th>\n",
       "      <th>original_pro</th>\n",
       "    </tr>\n",
       "  </thead>\n",
       "  <tbody>\n",
       "    <tr>\n",
       "      <th>0</th>\n",
       "      <td>2z73455wyhhm-01kymPKkkLjskLx8Th3uB5-0a7dce0e3e...</td>\n",
       "      <td>0.000785</td>\n",
       "      <td>1</td>\n",
       "      <td>0.001570</td>\n",
       "      <td>1.510075e-14</td>\n",
       "    </tr>\n",
       "    <tr>\n",
       "      <th>1</th>\n",
       "      <td>2z73455wyhhm-1BlazIIXhUWloSSs6JpN9p-1c2d1b5919...</td>\n",
       "      <td>0.735177</td>\n",
       "      <td>1</td>\n",
       "      <td>0.476876</td>\n",
       "      <td>9.934781e-01</td>\n",
       "    </tr>\n",
       "    <tr>\n",
       "      <th>2</th>\n",
       "      <td>2z73455wyhhm-1eho5afhUlX71yW8XFXbNE-8d09c418d7...</td>\n",
       "      <td>0.477206</td>\n",
       "      <td>1</td>\n",
       "      <td>0.438632</td>\n",
       "      <td>5.157798e-01</td>\n",
       "    </tr>\n",
       "    <tr>\n",
       "      <th>3</th>\n",
       "      <td>2z73455wyhhm-1Eqt9KyCwKo8zBFFTAUoDS-65b3b3910c...</td>\n",
       "      <td>0.355643</td>\n",
       "      <td>1</td>\n",
       "      <td>0.711009</td>\n",
       "      <td>2.766558e-04</td>\n",
       "    </tr>\n",
       "    <tr>\n",
       "      <th>4</th>\n",
       "      <td>2z73455wyhhm-1gxodmsz2Lo9T1Kd9OCTcl-dcf1601b03...</td>\n",
       "      <td>0.216470</td>\n",
       "      <td>1</td>\n",
       "      <td>0.370411</td>\n",
       "      <td>6.252947e-02</td>\n",
       "    </tr>\n",
       "  </tbody>\n",
       "</table>\n",
       "</div>"
      ],
      "text/plain": [
       "                                                name       pro  flag  \\\n",
       "0  2z73455wyhhm-01kymPKkkLjskLx8Th3uB5-0a7dce0e3e...  0.000785     1   \n",
       "1  2z73455wyhhm-1BlazIIXhUWloSSs6JpN9p-1c2d1b5919...  0.735177     1   \n",
       "2  2z73455wyhhm-1eho5afhUlX71yW8XFXbNE-8d09c418d7...  0.477206     1   \n",
       "3  2z73455wyhhm-1Eqt9KyCwKo8zBFFTAUoDS-65b3b3910c...  0.355643     1   \n",
       "4  2z73455wyhhm-1gxodmsz2Lo9T1Kd9OCTcl-dcf1601b03...  0.216470     1   \n",
       "\n",
       "   optical_pro  original_pro  \n",
       "0     0.001570  1.510075e-14  \n",
       "1     0.476876  9.934781e-01  \n",
       "2     0.438632  5.157798e-01  \n",
       "3     0.711009  2.766558e-04  \n",
       "4     0.370411  6.252947e-02  "
      ]
     },
     "execution_count": 121,
     "metadata": {},
     "output_type": "execute_result"
    }
   ],
   "source": [
    "videopoet_df = pd.read_csv('results/videopoet.csv')\n",
    "videopoet_df.head()"
   ]
  },
  {
   "cell_type": "code",
   "execution_count": 122,
   "id": "6e937747",
   "metadata": {},
   "outputs": [
    {
     "name": "stdout",
     "output_type": "stream",
     "text": [
      "True positive: 91\n",
      "False negative: 29\n"
     ]
    }
   ],
   "source": [
    "videopoet_df['pred'] = (videopoet_df['pro'] >= threshold).astype(int)\n",
    "tp = videopoet_df['pred'].sum()\n",
    "print(\"True positive:\", tp)\n",
    "print(\"False negative:\", len(videopoet_df) - tp)"
   ]
  },
  {
   "cell_type": "markdown",
   "id": "9c7bef69",
   "metadata": {},
   "source": [
    "### Hotshot"
   ]
  },
  {
   "cell_type": "code",
   "execution_count": 123,
   "id": "9e725db4",
   "metadata": {},
   "outputs": [
    {
     "data": {
      "text/html": [
       "<div>\n",
       "<style scoped>\n",
       "    .dataframe tbody tr th:only-of-type {\n",
       "        vertical-align: middle;\n",
       "    }\n",
       "\n",
       "    .dataframe tbody tr th {\n",
       "        vertical-align: top;\n",
       "    }\n",
       "\n",
       "    .dataframe thead th {\n",
       "        text-align: right;\n",
       "    }\n",
       "</style>\n",
       "<table border=\"1\" class=\"dataframe\">\n",
       "  <thead>\n",
       "    <tr style=\"text-align: right;\">\n",
       "      <th></th>\n",
       "      <th>name</th>\n",
       "      <th>pro</th>\n",
       "      <th>flag</th>\n",
       "      <th>optical_pro</th>\n",
       "      <th>original_pro</th>\n",
       "    </tr>\n",
       "  </thead>\n",
       "  <tbody>\n",
       "    <tr>\n",
       "      <th>0</th>\n",
       "      <td>gif_006d5650-f595-4042-b5de-093864cb2959</td>\n",
       "      <td>0.501487</td>\n",
       "      <td>1</td>\n",
       "      <td>0.002974</td>\n",
       "      <td>1.000000</td>\n",
       "    </tr>\n",
       "    <tr>\n",
       "      <th>1</th>\n",
       "      <td>gif_00a4c442-0580-492c-8a12-cbfa0adc5882</td>\n",
       "      <td>0.495103</td>\n",
       "      <td>1</td>\n",
       "      <td>0.000002</td>\n",
       "      <td>0.990204</td>\n",
       "    </tr>\n",
       "    <tr>\n",
       "      <th>2</th>\n",
       "      <td>gif_00bc121f-a49e-4fc4-92ad-9bfc3100a6d0</td>\n",
       "      <td>0.500002</td>\n",
       "      <td>1</td>\n",
       "      <td>0.000004</td>\n",
       "      <td>1.000000</td>\n",
       "    </tr>\n",
       "    <tr>\n",
       "      <th>3</th>\n",
       "      <td>gif_01c1a7b4-3629-4dfc-928e-48deb0c8dba3</td>\n",
       "      <td>0.499792</td>\n",
       "      <td>1</td>\n",
       "      <td>0.000006</td>\n",
       "      <td>0.999579</td>\n",
       "    </tr>\n",
       "    <tr>\n",
       "      <th>4</th>\n",
       "      <td>gif_08c7ac4d-dd4d-4bd8-b693-ac7fddebe161</td>\n",
       "      <td>0.500002</td>\n",
       "      <td>1</td>\n",
       "      <td>0.000003</td>\n",
       "      <td>1.000000</td>\n",
       "    </tr>\n",
       "  </tbody>\n",
       "</table>\n",
       "</div>"
      ],
      "text/plain": [
       "                                       name       pro  flag  optical_pro  \\\n",
       "0  gif_006d5650-f595-4042-b5de-093864cb2959  0.501487     1     0.002974   \n",
       "1  gif_00a4c442-0580-492c-8a12-cbfa0adc5882  0.495103     1     0.000002   \n",
       "2  gif_00bc121f-a49e-4fc4-92ad-9bfc3100a6d0  0.500002     1     0.000004   \n",
       "3  gif_01c1a7b4-3629-4dfc-928e-48deb0c8dba3  0.499792     1     0.000006   \n",
       "4  gif_08c7ac4d-dd4d-4bd8-b693-ac7fddebe161  0.500002     1     0.000003   \n",
       "\n",
       "   original_pro  \n",
       "0      1.000000  \n",
       "1      0.990204  \n",
       "2      1.000000  \n",
       "3      0.999579  \n",
       "4      1.000000  "
      ]
     },
     "execution_count": 123,
     "metadata": {},
     "output_type": "execute_result"
    }
   ],
   "source": [
    "hotshot_df = pd.read_csv('results/hotshot.csv')\n",
    "hotshot_df.head()"
   ]
  },
  {
   "cell_type": "code",
   "execution_count": 124,
   "id": "66892fd2",
   "metadata": {},
   "outputs": [
    {
     "name": "stdout",
     "output_type": "stream",
     "text": [
      "True positive: 98\n",
      "False negative: 2\n"
     ]
    }
   ],
   "source": [
    "hotshot_df['pred'] = (hotshot_df['pro'] >= threshold).astype(int)\n",
    "tp = hotshot_df['pred'].sum()\n",
    "print(\"True positive:\", tp)\n",
    "print(\"False negative:\", len(hotshot_df) - tp)"
   ]
  },
  {
   "cell_type": "markdown",
   "id": "adb1d135",
   "metadata": {},
   "source": [
    "### Emu"
   ]
  },
  {
   "cell_type": "code",
   "execution_count": 125,
   "id": "2a4bd37c",
   "metadata": {},
   "outputs": [
    {
     "data": {
      "text/html": [
       "<div>\n",
       "<style scoped>\n",
       "    .dataframe tbody tr th:only-of-type {\n",
       "        vertical-align: middle;\n",
       "    }\n",
       "\n",
       "    .dataframe tbody tr th {\n",
       "        vertical-align: top;\n",
       "    }\n",
       "\n",
       "    .dataframe thead th {\n",
       "        text-align: right;\n",
       "    }\n",
       "</style>\n",
       "<table border=\"1\" class=\"dataframe\">\n",
       "  <thead>\n",
       "    <tr style=\"text-align: right;\">\n",
       "      <th></th>\n",
       "      <th>name</th>\n",
       "      <th>pro</th>\n",
       "      <th>flag</th>\n",
       "      <th>optical_pro</th>\n",
       "      <th>original_pro</th>\n",
       "    </tr>\n",
       "  </thead>\n",
       "  <tbody>\n",
       "    <tr>\n",
       "      <th>0</th>\n",
       "      <td>5</td>\n",
       "      <td>0.517260</td>\n",
       "      <td>1</td>\n",
       "      <td>0.037662</td>\n",
       "      <td>0.996858</td>\n",
       "    </tr>\n",
       "    <tr>\n",
       "      <th>1</th>\n",
       "      <td>20</td>\n",
       "      <td>0.906295</td>\n",
       "      <td>1</td>\n",
       "      <td>0.812589</td>\n",
       "      <td>1.000000</td>\n",
       "    </tr>\n",
       "    <tr>\n",
       "      <th>2</th>\n",
       "      <td>24</td>\n",
       "      <td>0.688176</td>\n",
       "      <td>1</td>\n",
       "      <td>0.376352</td>\n",
       "      <td>1.000000</td>\n",
       "    </tr>\n",
       "    <tr>\n",
       "      <th>3</th>\n",
       "      <td>38</td>\n",
       "      <td>0.500098</td>\n",
       "      <td>1</td>\n",
       "      <td>0.004925</td>\n",
       "      <td>0.995270</td>\n",
       "    </tr>\n",
       "    <tr>\n",
       "      <th>4</th>\n",
       "      <td>41</td>\n",
       "      <td>0.567144</td>\n",
       "      <td>1</td>\n",
       "      <td>0.134291</td>\n",
       "      <td>0.999997</td>\n",
       "    </tr>\n",
       "  </tbody>\n",
       "</table>\n",
       "</div>"
      ],
      "text/plain": [
       "   name       pro  flag  optical_pro  original_pro\n",
       "0     5  0.517260     1     0.037662      0.996858\n",
       "1    20  0.906295     1     0.812589      1.000000\n",
       "2    24  0.688176     1     0.376352      1.000000\n",
       "3    38  0.500098     1     0.004925      0.995270\n",
       "4    41  0.567144     1     0.134291      0.999997"
      ]
     },
     "execution_count": 125,
     "metadata": {},
     "output_type": "execute_result"
    }
   ],
   "source": [
    "emu_df = pd.read_csv('results/emu.csv')\n",
    "emu_df.head()"
   ]
  },
  {
   "cell_type": "code",
   "execution_count": 126,
   "id": "69d1d9c3",
   "metadata": {},
   "outputs": [
    {
     "name": "stdout",
     "output_type": "stream",
     "text": [
      "True positive: 100\n",
      "False negative: 0\n"
     ]
    }
   ],
   "source": [
    "emu_df['pred'] = (emu_df['pro'] >= threshold).astype(int)\n",
    "tp = emu_df['pred'].sum()\n",
    "print(\"True positive:\", tp)\n",
    "print(\"False negative:\", len(emu_df) - tp)"
   ]
  },
  {
   "cell_type": "markdown",
   "id": "cb43af2c",
   "metadata": {},
   "source": [
    "### NeverEnds"
   ]
  },
  {
   "cell_type": "code",
   "execution_count": 127,
   "id": "ef4325d9",
   "metadata": {},
   "outputs": [
    {
     "data": {
      "text/html": [
       "<div>\n",
       "<style scoped>\n",
       "    .dataframe tbody tr th:only-of-type {\n",
       "        vertical-align: middle;\n",
       "    }\n",
       "\n",
       "    .dataframe tbody tr th {\n",
       "        vertical-align: top;\n",
       "    }\n",
       "\n",
       "    .dataframe thead th {\n",
       "        text-align: right;\n",
       "    }\n",
       "</style>\n",
       "<table border=\"1\" class=\"dataframe\">\n",
       "  <thead>\n",
       "    <tr style=\"text-align: right;\">\n",
       "      <th></th>\n",
       "      <th>name</th>\n",
       "      <th>pro</th>\n",
       "      <th>flag</th>\n",
       "      <th>optical_pro</th>\n",
       "      <th>original_pro</th>\n",
       "    </tr>\n",
       "  </thead>\n",
       "  <tbody>\n",
       "    <tr>\n",
       "      <th>0</th>\n",
       "      <td>output(23)</td>\n",
       "      <td>0.562711</td>\n",
       "      <td>1</td>\n",
       "      <td>0.125509</td>\n",
       "      <td>0.999912</td>\n",
       "    </tr>\n",
       "    <tr>\n",
       "      <th>1</th>\n",
       "      <td>output(3)</td>\n",
       "      <td>0.804852</td>\n",
       "      <td>1</td>\n",
       "      <td>0.857969</td>\n",
       "      <td>0.751736</td>\n",
       "    </tr>\n",
       "    <tr>\n",
       "      <th>2</th>\n",
       "      <td>output(33)</td>\n",
       "      <td>0.935142</td>\n",
       "      <td>1</td>\n",
       "      <td>0.873546</td>\n",
       "      <td>0.996738</td>\n",
       "    </tr>\n",
       "    <tr>\n",
       "      <th>3</th>\n",
       "      <td>output(53)</td>\n",
       "      <td>0.882025</td>\n",
       "      <td>1</td>\n",
       "      <td>0.764060</td>\n",
       "      <td>0.999989</td>\n",
       "    </tr>\n",
       "    <tr>\n",
       "      <th>4</th>\n",
       "      <td>output(54)</td>\n",
       "      <td>0.501050</td>\n",
       "      <td>1</td>\n",
       "      <td>0.002100</td>\n",
       "      <td>1.000000</td>\n",
       "    </tr>\n",
       "  </tbody>\n",
       "</table>\n",
       "</div>"
      ],
      "text/plain": [
       "         name       pro  flag  optical_pro  original_pro\n",
       "0  output(23)  0.562711     1     0.125509      0.999912\n",
       "1   output(3)  0.804852     1     0.857969      0.751736\n",
       "2  output(33)  0.935142     1     0.873546      0.996738\n",
       "3  output(53)  0.882025     1     0.764060      0.999989\n",
       "4  output(54)  0.501050     1     0.002100      1.000000"
      ]
     },
     "execution_count": 127,
     "metadata": {},
     "output_type": "execute_result"
    }
   ],
   "source": [
    "neverends_df = pd.read_csv('results/neverends.csv')\n",
    "neverends_df.head()"
   ]
  },
  {
   "cell_type": "code",
   "execution_count": 128,
   "id": "1b661ccb",
   "metadata": {},
   "outputs": [
    {
     "name": "stdout",
     "output_type": "stream",
     "text": [
      "True positive: 92\n",
      "False negative: 8\n"
     ]
    }
   ],
   "source": [
    "neverends_df['pred'] = (neverends_df['pro'] >= threshold).astype(int)\n",
    "tp = neverends_df['pred'].sum()\n",
    "print(\"True positive:\", tp)\n",
    "print(\"False negative:\", len(neverends_df) - tp)"
   ]
  },
  {
   "cell_type": "markdown",
   "id": "f48326f7",
   "metadata": {},
   "source": [
    "### Pika"
   ]
  },
  {
   "cell_type": "code",
   "execution_count": 129,
   "id": "942c5d7b",
   "metadata": {},
   "outputs": [
    {
     "data": {
      "text/html": [
       "<div>\n",
       "<style scoped>\n",
       "    .dataframe tbody tr th:only-of-type {\n",
       "        vertical-align: middle;\n",
       "    }\n",
       "\n",
       "    .dataframe tbody tr th {\n",
       "        vertical-align: top;\n",
       "    }\n",
       "\n",
       "    .dataframe thead th {\n",
       "        text-align: right;\n",
       "    }\n",
       "</style>\n",
       "<table border=\"1\" class=\"dataframe\">\n",
       "  <thead>\n",
       "    <tr style=\"text-align: right;\">\n",
       "      <th></th>\n",
       "      <th>name</th>\n",
       "      <th>pro</th>\n",
       "      <th>flag</th>\n",
       "      <th>optical_pro</th>\n",
       "      <th>original_pro</th>\n",
       "    </tr>\n",
       "  </thead>\n",
       "  <tbody>\n",
       "    <tr>\n",
       "      <th>0</th>\n",
       "      <td>adult_on_top_of_a_forklift_in_a_warehouse_seed...</td>\n",
       "      <td>0.499919</td>\n",
       "      <td>1</td>\n",
       "      <td>0.000002</td>\n",
       "      <td>0.999836</td>\n",
       "    </tr>\n",
       "    <tr>\n",
       "      <th>1</th>\n",
       "      <td>aliens_seed4465357557381530679</td>\n",
       "      <td>0.537768</td>\n",
       "      <td>1</td>\n",
       "      <td>0.075536</td>\n",
       "      <td>1.000000</td>\n",
       "    </tr>\n",
       "    <tr>\n",
       "      <th>2</th>\n",
       "      <td>Alien_spacecraft_flying_above_the_earth_seed16...</td>\n",
       "      <td>0.565464</td>\n",
       "      <td>1</td>\n",
       "      <td>0.130928</td>\n",
       "      <td>1.000000</td>\n",
       "    </tr>\n",
       "    <tr>\n",
       "      <th>3</th>\n",
       "      <td>Alien_spacecraft_flying_above_the_earth_seed66...</td>\n",
       "      <td>0.501097</td>\n",
       "      <td>1</td>\n",
       "      <td>0.002195</td>\n",
       "      <td>1.000000</td>\n",
       "    </tr>\n",
       "    <tr>\n",
       "      <th>4</th>\n",
       "      <td>Amidst_the_chaos_and_devastation_a_young_boy_s...</td>\n",
       "      <td>0.204637</td>\n",
       "      <td>1</td>\n",
       "      <td>0.409088</td>\n",
       "      <td>0.000186</td>\n",
       "    </tr>\n",
       "  </tbody>\n",
       "</table>\n",
       "</div>"
      ],
      "text/plain": [
       "                                                name       pro  flag  \\\n",
       "0  adult_on_top_of_a_forklift_in_a_warehouse_seed...  0.499919     1   \n",
       "1                     aliens_seed4465357557381530679  0.537768     1   \n",
       "2  Alien_spacecraft_flying_above_the_earth_seed16...  0.565464     1   \n",
       "3  Alien_spacecraft_flying_above_the_earth_seed66...  0.501097     1   \n",
       "4  Amidst_the_chaos_and_devastation_a_young_boy_s...  0.204637     1   \n",
       "\n",
       "   optical_pro  original_pro  \n",
       "0     0.000002      0.999836  \n",
       "1     0.075536      1.000000  \n",
       "2     0.130928      1.000000  \n",
       "3     0.002195      1.000000  \n",
       "4     0.409088      0.000186  "
      ]
     },
     "execution_count": 129,
     "metadata": {},
     "output_type": "execute_result"
    }
   ],
   "source": [
    "pika_df = pd.read_csv('results/pika.csv')\n",
    "pika_df.head()"
   ]
  },
  {
   "cell_type": "code",
   "execution_count": 130,
   "id": "4be1346c",
   "metadata": {},
   "outputs": [
    {
     "name": "stdout",
     "output_type": "stream",
     "text": [
      "True positive: 96\n",
      "False negative: 4\n"
     ]
    }
   ],
   "source": [
    "pika_df['pred'] = (pika_df['pro'] >= threshold).astype(int)\n",
    "tp = pika_df['pred'].sum()\n",
    "print(\"True positive:\", tp)\n",
    "print(\"False negative:\", len(pika_df) - tp)"
   ]
  },
  {
   "cell_type": "markdown",
   "id": "2036f80c",
   "metadata": {},
   "source": [
    "### Veo 3"
   ]
  },
  {
   "cell_type": "code",
   "execution_count": 131,
   "id": "c1660689",
   "metadata": {},
   "outputs": [
    {
     "data": {
      "text/html": [
       "<div>\n",
       "<style scoped>\n",
       "    .dataframe tbody tr th:only-of-type {\n",
       "        vertical-align: middle;\n",
       "    }\n",
       "\n",
       "    .dataframe tbody tr th {\n",
       "        vertical-align: top;\n",
       "    }\n",
       "\n",
       "    .dataframe thead th {\n",
       "        text-align: right;\n",
       "    }\n",
       "</style>\n",
       "<table border=\"1\" class=\"dataframe\">\n",
       "  <thead>\n",
       "    <tr style=\"text-align: right;\">\n",
       "      <th></th>\n",
       "      <th>name</th>\n",
       "      <th>pro</th>\n",
       "      <th>flag</th>\n",
       "      <th>optical_pro</th>\n",
       "      <th>original_pro</th>\n",
       "    </tr>\n",
       "  </thead>\n",
       "  <tbody>\n",
       "    <tr>\n",
       "      <th>0</th>\n",
       "      <td>accents-and-voices-10</td>\n",
       "      <td>0.281741</td>\n",
       "      <td>1</td>\n",
       "      <td>0.191709</td>\n",
       "      <td>0.371772</td>\n",
       "    </tr>\n",
       "    <tr>\n",
       "      <th>1</th>\n",
       "      <td>accents-and-voices-11</td>\n",
       "      <td>0.210023</td>\n",
       "      <td>1</td>\n",
       "      <td>0.052089</td>\n",
       "      <td>0.367956</td>\n",
       "    </tr>\n",
       "    <tr>\n",
       "      <th>2</th>\n",
       "      <td>accents-and-voices-12</td>\n",
       "      <td>0.232627</td>\n",
       "      <td>1</td>\n",
       "      <td>0.266656</td>\n",
       "      <td>0.198597</td>\n",
       "    </tr>\n",
       "    <tr>\n",
       "      <th>3</th>\n",
       "      <td>accents-and-voices-13</td>\n",
       "      <td>0.093065</td>\n",
       "      <td>1</td>\n",
       "      <td>0.141350</td>\n",
       "      <td>0.044779</td>\n",
       "    </tr>\n",
       "    <tr>\n",
       "      <th>4</th>\n",
       "      <td>accents-and-voices-14</td>\n",
       "      <td>0.025037</td>\n",
       "      <td>1</td>\n",
       "      <td>0.039075</td>\n",
       "      <td>0.010999</td>\n",
       "    </tr>\n",
       "  </tbody>\n",
       "</table>\n",
       "</div>"
      ],
      "text/plain": [
       "                    name       pro  flag  optical_pro  original_pro\n",
       "0  accents-and-voices-10  0.281741     1     0.191709      0.371772\n",
       "1  accents-and-voices-11  0.210023     1     0.052089      0.367956\n",
       "2  accents-and-voices-12  0.232627     1     0.266656      0.198597\n",
       "3  accents-and-voices-13  0.093065     1     0.141350      0.044779\n",
       "4  accents-and-voices-14  0.025037     1     0.039075      0.010999"
      ]
     },
     "execution_count": 131,
     "metadata": {},
     "output_type": "execute_result"
    }
   ],
   "source": [
    "veo3_df = pd.read_csv('results/veo3.csv')\n",
    "veo3_df.head()"
   ]
  },
  {
   "cell_type": "code",
   "execution_count": 132,
   "id": "738971c8",
   "metadata": {},
   "outputs": [
    {
     "name": "stdout",
     "output_type": "stream",
     "text": [
      "True positive: 49\n",
      "False negative: 51\n"
     ]
    }
   ],
   "source": [
    "veo3_df['pred'] = (veo3_df['pro'] >= threshold).astype(int)\n",
    "tp = veo3_df['pred'].sum()\n",
    "print(\"True positive:\", tp)\n",
    "print(\"False negative:\", len(veo3_df) - tp)"
   ]
  },
  {
   "cell_type": "markdown",
   "id": "2d5cd1e5",
   "metadata": {},
   "source": [
    "## Test Dataset"
   ]
  },
  {
   "cell_type": "code",
   "execution_count": 133,
   "id": "5dacf3d5",
   "metadata": {},
   "outputs": [],
   "source": [
    "from sklearn.metrics import confusion_matrix, ConfusionMatrixDisplay, accuracy_score, precision_score, recall_score, f1_score"
   ]
  },
  {
   "cell_type": "code",
   "execution_count": 134,
   "id": "9f5ccd95",
   "metadata": {},
   "outputs": [],
   "source": [
    "df = pd.concat([msrvtt_df, sora_df, hotshot_df, videopoet_df, emu_df, neverends_df, pika_df, veo3_df])\n",
    "y_true = df[\"flag\"]\n",
    "y_pred = df[\"pred\"]"
   ]
  },
  {
   "cell_type": "code",
   "execution_count": 135,
   "id": "93d80754",
   "metadata": {},
   "outputs": [
    {
     "data": {
      "text/plain": [
       "<sklearn.metrics._plot.confusion_matrix.ConfusionMatrixDisplay at 0x2914863fe80>"
      ]
     },
     "execution_count": 135,
     "metadata": {},
     "output_type": "execute_result"
    },
    {
     "data": {
      "image/png": "[encoded data removed]",
      "text/plain": [
       "<Figure size 640x480 with 2 Axes>"
      ]
     },
     "metadata": {},
     "output_type": "display_data"
    }
   ],
   "source": [
    "cm = confusion_matrix(y_true, y_pred)\n",
    "ConfusionMatrixDisplay(cm).plot()"
   ]
  },
  {
   "cell_type": "code",
   "execution_count": 136,
   "id": "cb63ff12",
   "metadata": {},
   "outputs": [
    {
     "name": "stdout",
     "output_type": "stream",
     "text": [
      "Accuracy: 0.7350299401197605\n",
      "Precision: 0.699238578680203\n",
      "Recall 0.8248502994011976\n",
      "F1 score: 0.7568681318681318\n"
     ]
    }
   ],
   "source": [
    "acc = accuracy_score(y_true, y_pred)\n",
    "p = precision_score(y_true, y_pred)\n",
    "r = recall_score(y_true, y_pred)\n",
    "f1 = f1_score(y_true, y_pred)\n",
    "print(\"Accuracy:\", acc)\n",
    "print(\"Precision:\", p)\n",
    "print(\"Recall\", r)\n",
    "print(\"F1 score:\", f1)"
   ]
  },
  {
   "cell_type": "markdown",
   "id": "a374fe12",
   "metadata": {},
   "source": [
    "### RGB frames only"
   ]
  },
  {
   "cell_type": "code",
   "execution_count": 137,
   "id": "7a23117c",
   "metadata": {},
   "outputs": [],
   "source": [
    "df[\"original_pred\"] = (df['original_pro'] >= threshold).astype(int)\n",
    "y_original_pred = df[\"original_pred\"]"
   ]
  },
  {
   "cell_type": "code",
   "execution_count": 138,
   "id": "7fa50909",
   "metadata": {},
   "outputs": [
    {
     "data": {
      "text/plain": [
       "<sklearn.metrics._plot.confusion_matrix.ConfusionMatrixDisplay at 0x2914863fc70>"
      ]
     },
     "execution_count": 138,
     "metadata": {},
     "output_type": "execute_result"
    },
    {
     "data": {
      "image/png": "[encoded data removed]",
      "text/plain": [
       "<Figure size 640x480 with 2 Axes>"
      ]
     },
     "metadata": {},
     "output_type": "display_data"
    }
   ],
   "source": [
    "cm = confusion_matrix(y_true, y_original_pred)\n",
    "ConfusionMatrixDisplay(cm).plot()"
   ]
  },
  {
   "cell_type": "code",
   "execution_count": 139,
   "id": "b4f768d4",
   "metadata": {},
   "outputs": [
    {
     "name": "stdout",
     "output_type": "stream",
     "text": [
      "Accuracy: 0.6579341317365269\n",
      "Precision: 0.631055900621118\n",
      "Recall 0.7604790419161677\n",
      "F1 score: 0.6897488119484046\n"
     ]
    }
   ],
   "source": [
    "acc = accuracy_score(y_true, y_original_pred)\n",
    "p = precision_score(y_true, y_original_pred)\n",
    "r = recall_score(y_true, y_original_pred)\n",
    "f1 = f1_score(y_true, y_original_pred)\n",
    "print(\"Accuracy:\", acc)\n",
    "print(\"Precision:\", p)\n",
    "print(\"Recall\", r)\n",
    "print(\"F1 score:\", f1)"
   ]
  },
  {
   "cell_type": "markdown",
   "id": "e1bd963f",
   "metadata": {},
   "source": [
    "### Optical flow maps only"
   ]
  },
  {
   "cell_type": "code",
   "execution_count": 140,
   "id": "c266cd0c",
   "metadata": {},
   "outputs": [],
   "source": [
    "df[\"optical_pred\"] = (df['optical_pro'] >= threshold).astype(int)\n",
    "y_optical_pred = df[\"optical_pred\"]"
   ]
  },
  {
   "cell_type": "code",
   "execution_count": 141,
   "id": "5662a22e",
   "metadata": {},
   "outputs": [
    {
     "data": {
      "text/plain": [
       "<sklearn.metrics._plot.confusion_matrix.ConfusionMatrixDisplay at 0x29148847a30>"
      ]
     },
     "execution_count": 141,
     "metadata": {},
     "output_type": "execute_result"
    },
    {
     "data": {
      "image/png": "[encoded data removed]",
      "text/plain": [
       "<Figure size 640x480 with 2 Axes>"
      ]
     },
     "metadata": {},
     "output_type": "display_data"
    }
   ],
   "source": [
    "cm = confusion_matrix(y_true, y_optical_pred)\n",
    "ConfusionMatrixDisplay(cm).plot()"
   ]
  },
  {
   "cell_type": "code",
   "execution_count": 143,
   "id": "1991aeb7",
   "metadata": {},
   "outputs": [
    {
     "name": "stdout",
     "output_type": "stream",
     "text": [
      "Accuracy: 0.7252994011976048\n",
      "Precision: 1.0\n",
      "Recall 0.4505988023952096\n",
      "F1 score: 0.6212590299277606\n"
     ]
    }
   ],
   "source": [
    "acc = accuracy_score(y_true, y_optical_pred)\n",
    "p = precision_score(y_true, y_optical_pred)\n",
    "r = recall_score(y_true, y_optical_pred)\n",
    "f1 = f1_score(y_true, y_optical_pred)\n",
    "print(\"Accuracy:\", acc)\n",
    "print(\"Precision:\", p)\n",
    "print(\"Recall\", r)\n",
    "print(\"F1 score:\", f1)"
   ]
  }
 ],
 "metadata": {
  "kernelspec": {
   "display_name": "aigvdet",
   "language": "python",
   "name": "python3"
  },
  "language_info": {
   "codemirror_mode": {
    "name": "ipython",
    "version": 3
   },
   "file_extension": ".py",
   "mimetype": "text/x-python",
   "name": "python",
   "nbconvert_exporter": "python",
   "pygments_lexer": "ipython3",
   "version": "3.9.21"
  }
 },
 "nbformat": 4,
 "nbformat_minor": 5
}
